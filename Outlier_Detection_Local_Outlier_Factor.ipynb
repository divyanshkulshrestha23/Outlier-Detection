{
  "nbformat": 4,
  "nbformat_minor": 0,
  "metadata": {
    "colab": {
      "provenance": [],
      "authorship_tag": "ABX9TyOssElRqCSAi5twMB+BTcEd",
      "include_colab_link": true
    },
    "kernelspec": {
      "name": "python3",
      "display_name": "Python 3"
    },
    "language_info": {
      "name": "python"
    }
  },
  "cells": [
    {
      "cell_type": "markdown",
      "metadata": {
        "id": "view-in-github",
        "colab_type": "text"
      },
      "source": [
        "<a href=\"https://colab.research.google.com/github/divyanshkulshrestha23/Outlier-Detection/blob/main/Outlier_Detection_Local_Outlier_Factor.ipynb\" target=\"_parent\"><img src=\"https://colab.research.google.com/assets/colab-badge.svg\" alt=\"Open In Colab\"/></a>"
      ]
    },
    {
      "cell_type": "code",
      "execution_count": null,
      "metadata": {
        "id": "l22v9_AM5r1P"
      },
      "outputs": [],
      "source": [
        "import os, cv2\n",
        "import numpy as np\n",
        "import matplotlib.pyplot as plt\n",
        "from sklearn.decomposition import PCA\n",
        "from tensorflow.keras.applications import MobileNetV2\n",
        "from tensorflow.keras.applications.mobilenet_v2 import preprocess_input\n",
        "from tensorflow.keras.preprocessing.image import img_to_array\n",
        "from tensorflow.keras.models import Model\n",
        "from sklearn.neighbors import LocalOutlierFactor"
      ]
    },
    {
      "cell_type": "code",
      "source": [
        "location = \"Enter File Path Here\""
      ],
      "metadata": {
        "id": "NtCEOZgc5uK9"
      },
      "execution_count": null,
      "outputs": []
    },
    {
      "cell_type": "code",
      "source": [
        "image_paths = [os.path.join(location, f) for f in os.listdir(location) if f.endswith('jpeg')]\n",
        "features = []\n",
        "raw_images = []"
      ],
      "metadata": {
        "id": "SQbyiw7J5uBD"
      },
      "execution_count": null,
      "outputs": []
    },
    {
      "cell_type": "code",
      "source": [
        "base_model = MobileNetV2(weights='imagenet', include_top=False, pooling='avg')\n",
        "model = Model(inputs=base_model.input, outputs=base_model.output)"
      ],
      "metadata": {
        "id": "_x58NKF85t8L"
      },
      "execution_count": null,
      "outputs": []
    },
    {
      "cell_type": "code",
      "source": [
        "for path in image_paths:\n",
        "    img = cv2.imread(path)\n",
        "    if img is None:\n",
        "        continue\n",
        "\n",
        "    img = cv2.resize(img, (224, 224))\n",
        "    img_array = img_to_array(img)\n",
        "    img_array = preprocess_input(img_array)\n",
        "    img_array = np.expand_dims(img_array, axis=0)\n",
        "\n",
        "    feat = model.predict(img_array, verbose=0).flatten()\n",
        "    features.append(feat)\n",
        "    raw_images.append(path)\n",
        "\n",
        "features = np.array(features)"
      ],
      "metadata": {
        "id": "2CwjdG1Z5t3b"
      },
      "execution_count": null,
      "outputs": []
    },
    {
      "cell_type": "code",
      "source": [
        "pca = PCA(n_components=50)\n",
        "X_pca = pca.fit_transform(features)"
      ],
      "metadata": {
        "id": "8R9Aa3ys5ty3"
      },
      "execution_count": null,
      "outputs": []
    },
    {
      "cell_type": "code",
      "source": [
        "percentage = \"Enter Estimated Percentage of Outliers Here\""
      ],
      "metadata": {
        "id": "SGBZaVv36EC_"
      },
      "execution_count": null,
      "outputs": []
    },
    {
      "cell_type": "code",
      "source": [
        "lof = LocalOutlierFactor(n_neighbors=10, contamination= percentage/100)\n",
        "preds = lof.fit_predict(X_pca)\n",
        "outlier_indices = np.where(preds == -1)[0]"
      ],
      "metadata": {
        "id": "BwKA6lzQ5tuA"
      },
      "execution_count": null,
      "outputs": []
    },
    {
      "cell_type": "code",
      "source": [
        "import math\n",
        "\n",
        "num_outliers = len(outlier_indices)\n",
        "cols = 5  # Number of images per row\n",
        "rows = math.ceil(num_outliers / cols)\n",
        "\n",
        "plt.figure(figsize=(cols * 3, rows * 3))  # Scale size by number of rows/cols\n",
        "\n",
        "for i, idx in enumerate(outlier_indices):\n",
        "    img = cv2.imread(raw_images[idx])\n",
        "    img = cv2.cvtColor(cv2.resize(img, (128, 128)), cv2.COLOR_BGR2RGB)\n",
        "    plt.subplot(rows, cols, i + 1)\n",
        "    plt.imshow(img)\n",
        "    plt.title(f\"Outlier #{i + 1}\")\n",
        "    plt.axis('off')\n",
        "\n",
        "plt.suptitle(\"All Detected Outlier Images\", fontsize=16)\n",
        "plt.tight_layout()\n",
        "plt.show()\n"
      ],
      "metadata": {
        "id": "tyxF2_Xn5tpW"
      },
      "execution_count": null,
      "outputs": []
    }
  ]
}