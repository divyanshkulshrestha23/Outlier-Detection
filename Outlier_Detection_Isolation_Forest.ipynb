{
  "nbformat": 4,
  "nbformat_minor": 0,
  "metadata": {
    "colab": {
      "provenance": [],
      "authorship_tag": "ABX9TyNOGmGfhX+QDu3nASY5bw9Q",
      "include_colab_link": true
    },
    "kernelspec": {
      "name": "python3",
      "display_name": "Python 3"
    },
    "language_info": {
      "name": "python"
    }
  },
  "cells": [
    {
      "cell_type": "markdown",
      "metadata": {
        "id": "view-in-github",
        "colab_type": "text"
      },
      "source": [
        "<a href=\"https://colab.research.google.com/github/divyanshkulshrestha23/Outlier-Detection/blob/main/Outlier_Detection_Isolation_Forest.ipynb\" target=\"_parent\"><img src=\"https://colab.research.google.com/assets/colab-badge.svg\" alt=\"Open In Colab\"/></a>"
      ]
    },
    {
      "cell_type": "code",
      "execution_count": null,
      "metadata": {
        "id": "DiGSLegmxW-n"
      },
      "outputs": [],
      "source": [
        "import os, cv2\n",
        "import numpy as np\n",
        "import matplotlib.pyplot as plt\n",
        "from sklearn.ensemble import IsolationForest\n",
        "from sklearn.decomposition import PCA\n",
        "from tensorflow.keras.applications import MobileNetV2\n",
        "from tensorflow.keras.applications.mobilenet_v2 import preprocess_input\n",
        "from tensorflow.keras.preprocessing.image import img_to_array\n",
        "from tensorflow.keras.models import Model"
      ]
    },
    {
      "cell_type": "code",
      "source": [
        "location = \"Enter File Path Here\""
      ],
      "metadata": {
        "id": "Id9d36I9xZxe"
      },
      "execution_count": null,
      "outputs": []
    },
    {
      "cell_type": "code",
      "source": [
        "image_paths = [os.path.join(location, f) for f in os.listdir(location) if f.endswith('jpeg')]\n",
        "features = []\n",
        "raw_images = []"
      ],
      "metadata": {
        "id": "wLBMHfe1xZsW"
      },
      "execution_count": null,
      "outputs": []
    },
    {
      "cell_type": "code",
      "source": [
        "base_model = MobileNetV2(weights='imagenet', include_top=False, pooling='avg')\n",
        "model = Model(inputs=base_model.input, outputs=base_model.output)"
      ],
      "metadata": {
        "id": "98LRG3_FxZpt"
      },
      "execution_count": null,
      "outputs": []
    },
    {
      "cell_type": "code",
      "source": [
        "for path in image_paths:\n",
        "    img = cv2.imread(path)\n",
        "    if img is None:\n",
        "        continue\n",
        "\n",
        "    img = cv2.resize(img, (224, 224))\n",
        "    img_array = img_to_array(img)\n",
        "    img_array = preprocess_input(img_array)\n",
        "    img_array = np.expand_dims(img_array, axis=0)\n",
        "\n",
        "    feat = model.predict(img_array, verbose=0).flatten()\n",
        "    features.append(feat)\n",
        "    raw_images.append(path)\n",
        "\n",
        "features = np.array(features)"
      ],
      "metadata": {
        "id": "YkOkYLS0xZmx"
      },
      "execution_count": null,
      "outputs": []
    },
    {
      "cell_type": "code",
      "source": [
        "pca = PCA(n_components=50)\n",
        "X_pca = pca.fit_transform(features)"
      ],
      "metadata": {
        "id": "ipgzp7lnxZjq"
      },
      "execution_count": null,
      "outputs": []
    },
    {
      "cell_type": "code",
      "source": [
        "percentage = \"Enter Estimated Percentage of Outliers Here\""
      ],
      "metadata": {
        "id": "8hvFaiiGxZgq"
      },
      "execution_count": null,
      "outputs": []
    },
    {
      "cell_type": "code",
      "source": [
        "clf = IsolationForest(contamination=0.04, random_state=42)  # ~3% outliers\n",
        "preds = clf.fit_predict(X_pca)"
      ],
      "metadata": {
        "id": "ErQ2RSQgxZdh"
      },
      "execution_count": null,
      "outputs": []
    },
    {
      "cell_type": "code",
      "source": [
        "outlier_indices = np.where(preds == -1)[0]\n",
        "outliers = [raw_images[i] for i in outlier_indices]"
      ],
      "metadata": {
        "id": "hKB1TUljxZY8"
      },
      "execution_count": null,
      "outputs": []
    },
    {
      "cell_type": "code",
      "source": [
        "import math\n",
        "\n",
        "num_outliers = len(outlier_indices)\n",
        "cols = 5  # Number of images per row\n",
        "rows = math.ceil(num_outliers / cols)\n",
        "\n",
        "plt.figure(figsize=(cols * 3, rows * 3))  # Scale size by number of rows/cols\n",
        "\n",
        "for i, idx in enumerate(outlier_indices):\n",
        "    img = cv2.imread(raw_images[idx])\n",
        "    img = cv2.cvtColor(cv2.resize(img, (128, 128)), cv2.COLOR_BGR2RGB)\n",
        "    plt.subplot(rows, cols, i + 1)\n",
        "    plt.imshow(img)\n",
        "    plt.title(f\"Outlier #{i + 1}\")\n",
        "    plt.axis('off')\n",
        "\n",
        "plt.suptitle(\"All Detected Outlier Images\", fontsize=16)\n",
        "plt.tight_layout()\n",
        "plt.show()\n"
      ],
      "metadata": {
        "id": "QQ4GjkBexZQh"
      },
      "execution_count": null,
      "outputs": []
    }
  ]
}