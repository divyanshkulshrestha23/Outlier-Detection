{
  "nbformat": 4,
  "nbformat_minor": 0,
  "metadata": {
    "colab": {
      "provenance": [],
      "authorship_tag": "ABX9TyOWNtnddy9FAahCB7MOW3pd",
      "include_colab_link": true
    },
    "kernelspec": {
      "name": "python3",
      "display_name": "Python 3"
    },
    "language_info": {
      "name": "python"
    }
  },
  "cells": [
    {
      "cell_type": "markdown",
      "metadata": {
        "id": "view-in-github",
        "colab_type": "text"
      },
      "source": [
        "<a href=\"https://colab.research.google.com/github/divyanshkulshrestha23/Outlier-and-Misannotation-Detection/blob/main/YOLO_Misannotation_Detection_Isolation_Forest.ipynb\" target=\"_parent\"><img src=\"https://colab.research.google.com/assets/colab-badge.svg\" alt=\"Open In Colab\"/></a>"
      ]
    },
    {
      "cell_type": "code",
      "execution_count": null,
      "metadata": {
        "id": "DiGSLegmxW-n"
      },
      "outputs": [],
      "source": [
        "import cv2, os\n",
        "import numpy as np\n",
        "import matplotlib.pyplot as plt\n",
        "from sklearn.ensemble import IsolationForest\n",
        "from sklearn.decomposition import PCA\n",
        "from tensorflow.keras.applications import MobileNetV2\n",
        "from tensorflow.keras.applications.mobilenet_v2 import preprocess_input\n",
        "from tensorflow.keras.preprocessing.image import img_to_array\n",
        "from tensorflow.keras.models import Model"
      ]
    },
    {
      "cell_type": "code",
      "source": [
        "image_location = \"Enter File Path Here\"\n",
        "labels_location = \"Enter File Path Here\""
      ],
      "metadata": {
        "id": "Id9d36I9xZxe"
      },
      "execution_count": null,
      "outputs": []
    },
    {
      "cell_type": "code",
      "source": [
        "image_paths = [os.path.join(location, f) for f in os.listdir(location) if f.endswith('jpeg')]"
      ],
      "metadata": {
        "id": "wLBMHfe1xZsW"
      },
      "execution_count": null,
      "outputs": []
    },
    {
      "cell_type": "code",
      "source": [
        "base_model = MobileNetV2(weights='imagenet', include_top=False, pooling='avg')\n",
        "model = Model(inputs=base_model.input, outputs=base_model.output)"
      ],
      "metadata": {
        "id": "98LRG3_FxZpt"
      },
      "execution_count": null,
      "outputs": []
    },
    {
      "cell_type": "code",
      "source": [
        "patch_features = []\n",
        "patch_info = []"
      ],
      "metadata": {
        "id": "2W5dYwbFCGYB"
      },
      "execution_count": null,
      "outputs": []
    },
    {
      "cell_type": "code",
      "source": [
        "for filename in os.listdir(image_location):\n",
        "    if not filename.lower().endswith(('.jpg', '.jpeg', '.png', '.bmp')):\n",
        "        continue\n",
        "\n",
        "    img_path = os.path.join(image_location, filename)\n",
        "    label_path = os.path.join(label_location, filename.rsplit('.', 1)[0] + '.txt')\n",
        "\n",
        "    if not os.path.exists(label_path):\n",
        "        continue\n",
        "\n",
        "    img = cv2.imread(img_path)\n",
        "    if img is None:\n",
        "        continue\n",
        "    h, w = img.shape[:2]\n",
        "\n",
        "    with open(label_path, 'r') as f:\n",
        "        for line in f:\n",
        "            parts = line.strip().split()\n",
        "            if len(parts) != 5:\n",
        "                continue\n",
        "            _, cx, cy, bw, bh = map(float, parts)\n",
        "            x1 = int((cx - bw / 2) * w)\n",
        "            y1 = int((cy - bh / 2) * h)\n",
        "            x2 = int((cx + bw / 2) * w)\n",
        "            y2 = int((cy + bh / 2) * h)\n",
        "\n",
        "            x1, y1 = max(0, x1), max(0, y1)\n",
        "            x2, y2 = min(w, x2), min(h, y2)\n",
        "\n",
        "            patch = img[y1:y2, x1:x2]\n",
        "            if patch.shape[0] < min_patch_size or patch.shape[1] < min_patch_size:\n",
        "                continue\n",
        "\n",
        "            patch_resized = cv2.resize(patch, resize_dim)\n",
        "            patch_array = preprocess_input(img_to_array(patch_resized))\n",
        "            patch_array = np.expand_dims(patch_array, axis=0)\n",
        "            features = cnn_model.predict(patch_array, verbose=0).flatten()\n",
        "\n",
        "            patch_features.append(features)\n",
        "            patch_info.append((img_path, (x1, y1, x2, y2)))\n",
        "\n",
        "features = np.array(patch_features)"
      ],
      "metadata": {
        "id": "YkOkYLS0xZmx"
      },
      "execution_count": null,
      "outputs": []
    },
    {
      "cell_type": "code",
      "source": [
        "pca = PCA(n_components=50)\n",
        "X_pca = pca.fit_transform(features)"
      ],
      "metadata": {
        "id": "ipgzp7lnxZjq"
      },
      "execution_count": null,
      "outputs": []
    },
    {
      "cell_type": "code",
      "source": [
        "percentage = \"Enter Estimated Percentage of Outliers Here\""
      ],
      "metadata": {
        "id": "8hvFaiiGxZgq"
      },
      "execution_count": null,
      "outputs": []
    },
    {
      "cell_type": "code",
      "source": [
        "clf = IsolationForest(contamination= (percentage/100), random_state=42)  # ~3% outliers\n",
        "preds = clf.fit_predict(X_pca)\n",
        "outlier_indices = np.where(preds == -1)[0]"
      ],
      "metadata": {
        "id": "ErQ2RSQgxZdh"
      },
      "execution_count": null,
      "outputs": []
    },
    {
      "cell_type": "code",
      "source": [
        "import math\n",
        "\n",
        "num_outliers = len(outlier_indices)\n",
        "cols = 5  # Number of images per row\n",
        "rows = math.ceil(num_outliers / cols)\n",
        "\n",
        "plt.figure(figsize=(cols * 3, rows * 3))  # Scale size by number of rows/cols\n",
        "\n",
        "for i, idx in enumerate(outlier_indices):\n",
        "    img = cv2.imread(raw_images[idx])\n",
        "    img = cv2.cvtColor(cv2.resize(img, (128, 128)), cv2.COLOR_BGR2RGB)\n",
        "    plt.subplot(rows, cols, i + 1)\n",
        "    plt.imshow(img)\n",
        "    plt.title(f\"Outlier #{i + 1}\")\n",
        "    plt.axis('off')\n",
        "\n",
        "plt.suptitle(\"All Detected Outlier Images\", fontsize=16)\n",
        "plt.tight_layout()\n",
        "plt.show()\n"
      ],
      "metadata": {
        "id": "QQ4GjkBexZQh"
      },
      "execution_count": null,
      "outputs": []
    }
  ]
}